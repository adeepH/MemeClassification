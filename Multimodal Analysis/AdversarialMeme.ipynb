{
  "nbformat": 4,
  "nbformat_minor": 0,
  "metadata": {
    "colab": {
      "name": "AdversarialMeme.ipynb",
      "provenance": []
    },
    "kernelspec": {
      "name": "python3",
      "display_name": "Python 3"
    },
    "language_info": {
      "name": "python"
    },
    "accelerator": "GPU",
    "widgets": {
      "application/vnd.jupyter.widget-state+json": {
        "d5d5d1ad5a08403c80c20f467ba6778a": {
          "model_module": "@jupyter-widgets/controls",
          "model_name": "HBoxModel",
          "state": {
            "_view_name": "HBoxView",
            "_dom_classes": [],
            "_model_name": "HBoxModel",
            "_view_module": "@jupyter-widgets/controls",
            "_model_module_version": "1.5.0",
            "_view_count": null,
            "_view_module_version": "1.5.0",
            "box_style": "",
            "layout": "IPY_MODEL_6ea78ee325b64af6bc7003507e0dd50d",
            "_model_module": "@jupyter-widgets/controls",
            "children": [
              "IPY_MODEL_be7bf62ab770411b9ce4848afd8ad0bf",
              "IPY_MODEL_b11eb97574a64382b38204d63e98e525"
            ]
          }
        },
        "6ea78ee325b64af6bc7003507e0dd50d": {
          "model_module": "@jupyter-widgets/base",
          "model_name": "LayoutModel",
          "state": {
            "_view_name": "LayoutView",
            "grid_template_rows": null,
            "right": null,
            "justify_content": null,
            "_view_module": "@jupyter-widgets/base",
            "overflow": null,
            "_model_module_version": "1.2.0",
            "_view_count": null,
            "flex_flow": null,
            "width": null,
            "min_width": null,
            "border": null,
            "align_items": null,
            "bottom": null,
            "_model_module": "@jupyter-widgets/base",
            "top": null,
            "grid_column": null,
            "overflow_y": null,
            "overflow_x": null,
            "grid_auto_flow": null,
            "grid_area": null,
            "grid_template_columns": null,
            "flex": null,
            "_model_name": "LayoutModel",
            "justify_items": null,
            "grid_row": null,
            "max_height": null,
            "align_content": null,
            "visibility": null,
            "align_self": null,
            "height": null,
            "min_height": null,
            "padding": null,
            "grid_auto_rows": null,
            "grid_gap": null,
            "max_width": null,
            "order": null,
            "_view_module_version": "1.2.0",
            "grid_template_areas": null,
            "object_position": null,
            "object_fit": null,
            "grid_auto_columns": null,
            "margin": null,
            "display": null,
            "left": null
          }
        },
        "be7bf62ab770411b9ce4848afd8ad0bf": {
          "model_module": "@jupyter-widgets/controls",
          "model_name": "FloatProgressModel",
          "state": {
            "_view_name": "ProgressView",
            "style": "IPY_MODEL_47d3f8ba3cbe44308c1d9575202998d4",
            "_dom_classes": [],
            "description": "Downloading: 100%",
            "_model_name": "FloatProgressModel",
            "bar_style": "success",
            "max": 625,
            "_view_module": "@jupyter-widgets/controls",
            "_model_module_version": "1.5.0",
            "value": 625,
            "_view_count": null,
            "_view_module_version": "1.5.0",
            "orientation": "horizontal",
            "min": 0,
            "description_tooltip": null,
            "_model_module": "@jupyter-widgets/controls",
            "layout": "IPY_MODEL_a557c1bd9ffd4f0eba8caba9f43d5074"
          }
        },
        "b11eb97574a64382b38204d63e98e525": {
          "model_module": "@jupyter-widgets/controls",
          "model_name": "HTMLModel",
          "state": {
            "_view_name": "HTMLView",
            "style": "IPY_MODEL_5dbbba3cbfa447b5b37d9219051034fc",
            "_dom_classes": [],
            "description": "",
            "_model_name": "HTMLModel",
            "placeholder": "​",
            "_view_module": "@jupyter-widgets/controls",
            "_model_module_version": "1.5.0",
            "value": " 625/625 [00:00&lt;00:00, 7.07kB/s]",
            "_view_count": null,
            "_view_module_version": "1.5.0",
            "description_tooltip": null,
            "_model_module": "@jupyter-widgets/controls",
            "layout": "IPY_MODEL_d731db7b79f24343bc8dec025f01da03"
          }
        },
        "47d3f8ba3cbe44308c1d9575202998d4": {
          "model_module": "@jupyter-widgets/controls",
          "model_name": "ProgressStyleModel",
          "state": {
            "_view_name": "StyleView",
            "_model_name": "ProgressStyleModel",
            "description_width": "initial",
            "_view_module": "@jupyter-widgets/base",
            "_model_module_version": "1.5.0",
            "_view_count": null,
            "_view_module_version": "1.2.0",
            "bar_color": null,
            "_model_module": "@jupyter-widgets/controls"
          }
        },
        "a557c1bd9ffd4f0eba8caba9f43d5074": {
          "model_module": "@jupyter-widgets/base",
          "model_name": "LayoutModel",
          "state": {
            "_view_name": "LayoutView",
            "grid_template_rows": null,
            "right": null,
            "justify_content": null,
            "_view_module": "@jupyter-widgets/base",
            "overflow": null,
            "_model_module_version": "1.2.0",
            "_view_count": null,
            "flex_flow": null,
            "width": null,
            "min_width": null,
            "border": null,
            "align_items": null,
            "bottom": null,
            "_model_module": "@jupyter-widgets/base",
            "top": null,
            "grid_column": null,
            "overflow_y": null,
            "overflow_x": null,
            "grid_auto_flow": null,
            "grid_area": null,
            "grid_template_columns": null,
            "flex": null,
            "_model_name": "LayoutModel",
            "justify_items": null,
            "grid_row": null,
            "max_height": null,
            "align_content": null,
            "visibility": null,
            "align_self": null,
            "height": null,
            "min_height": null,
            "padding": null,
            "grid_auto_rows": null,
            "grid_gap": null,
            "max_width": null,
            "order": null,
            "_view_module_version": "1.2.0",
            "grid_template_areas": null,
            "object_position": null,
            "object_fit": null,
            "grid_auto_columns": null,
            "margin": null,
            "display": null,
            "left": null
          }
        },
        "5dbbba3cbfa447b5b37d9219051034fc": {
          "model_module": "@jupyter-widgets/controls",
          "model_name": "DescriptionStyleModel",
          "state": {
            "_view_name": "StyleView",
            "_model_name": "DescriptionStyleModel",
            "description_width": "",
            "_view_module": "@jupyter-widgets/base",
            "_model_module_version": "1.5.0",
            "_view_count": null,
            "_view_module_version": "1.2.0",
            "_model_module": "@jupyter-widgets/controls"
          }
        },
        "d731db7b79f24343bc8dec025f01da03": {
          "model_module": "@jupyter-widgets/base",
          "model_name": "LayoutModel",
          "state": {
            "_view_name": "LayoutView",
            "grid_template_rows": null,
            "right": null,
            "justify_content": null,
            "_view_module": "@jupyter-widgets/base",
            "overflow": null,
            "_model_module_version": "1.2.0",
            "_view_count": null,
            "flex_flow": null,
            "width": null,
            "min_width": null,
            "border": null,
            "align_items": null,
            "bottom": null,
            "_model_module": "@jupyter-widgets/base",
            "top": null,
            "grid_column": null,
            "overflow_y": null,
            "overflow_x": null,
            "grid_auto_flow": null,
            "grid_area": null,
            "grid_template_columns": null,
            "flex": null,
            "_model_name": "LayoutModel",
            "justify_items": null,
            "grid_row": null,
            "max_height": null,
            "align_content": null,
            "visibility": null,
            "align_self": null,
            "height": null,
            "min_height": null,
            "padding": null,
            "grid_auto_rows": null,
            "grid_gap": null,
            "max_width": null,
            "order": null,
            "_view_module_version": "1.2.0",
            "grid_template_areas": null,
            "object_position": null,
            "object_fit": null,
            "grid_auto_columns": null,
            "margin": null,
            "display": null,
            "left": null
          }
        },
        "7cca502d9c124e6f9b03b7422b94b76b": {
          "model_module": "@jupyter-widgets/controls",
          "model_name": "HBoxModel",
          "state": {
            "_view_name": "HBoxView",
            "_dom_classes": [],
            "_model_name": "HBoxModel",
            "_view_module": "@jupyter-widgets/controls",
            "_model_module_version": "1.5.0",
            "_view_count": null,
            "_view_module_version": "1.5.0",
            "box_style": "",
            "layout": "IPY_MODEL_b77063c57ae845dbbda41edf292f91df",
            "_model_module": "@jupyter-widgets/controls",
            "children": [
              "IPY_MODEL_1f6639cdb4c64c09a13b860dfc68cede",
              "IPY_MODEL_31be752e0e7b457d821d0e9a5e3f77ef"
            ]
          }
        },
        "b77063c57ae845dbbda41edf292f91df": {
          "model_module": "@jupyter-widgets/base",
          "model_name": "LayoutModel",
          "state": {
            "_view_name": "LayoutView",
            "grid_template_rows": null,
            "right": null,
            "justify_content": null,
            "_view_module": "@jupyter-widgets/base",
            "overflow": null,
            "_model_module_version": "1.2.0",
            "_view_count": null,
            "flex_flow": null,
            "width": null,
            "min_width": null,
            "border": null,
            "align_items": null,
            "bottom": null,
            "_model_module": "@jupyter-widgets/base",
            "top": null,
            "grid_column": null,
            "overflow_y": null,
            "overflow_x": null,
            "grid_auto_flow": null,
            "grid_area": null,
            "grid_template_columns": null,
            "flex": null,
            "_model_name": "LayoutModel",
            "justify_items": null,
            "grid_row": null,
            "max_height": null,
            "align_content": null,
            "visibility": null,
            "align_self": null,
            "height": null,
            "min_height": null,
            "padding": null,
            "grid_auto_rows": null,
            "grid_gap": null,
            "max_width": null,
            "order": null,
            "_view_module_version": "1.2.0",
            "grid_template_areas": null,
            "object_position": null,
            "object_fit": null,
            "grid_auto_columns": null,
            "margin": null,
            "display": null,
            "left": null
          }
        },
        "1f6639cdb4c64c09a13b860dfc68cede": {
          "model_module": "@jupyter-widgets/controls",
          "model_name": "FloatProgressModel",
          "state": {
            "_view_name": "ProgressView",
            "style": "IPY_MODEL_c03ebdf5a2aa4a9eb12c51f9d3bd4fa2",
            "_dom_classes": [],
            "description": "Downloading: 100%",
            "_model_name": "FloatProgressModel",
            "bar_style": "success",
            "max": 995526,
            "_view_module": "@jupyter-widgets/controls",
            "_model_module_version": "1.5.0",
            "value": 995526,
            "_view_count": null,
            "_view_module_version": "1.5.0",
            "orientation": "horizontal",
            "min": 0,
            "description_tooltip": null,
            "_model_module": "@jupyter-widgets/controls",
            "layout": "IPY_MODEL_7ad70417e2c9479d9ff4a9355a0df0df"
          }
        },
        "31be752e0e7b457d821d0e9a5e3f77ef": {
          "model_module": "@jupyter-widgets/controls",
          "model_name": "HTMLModel",
          "state": {
            "_view_name": "HTMLView",
            "style": "IPY_MODEL_ef1aa84dd8084bfd80454df00f1dbde2",
            "_dom_classes": [],
            "description": "",
            "_model_name": "HTMLModel",
            "placeholder": "​",
            "_view_module": "@jupyter-widgets/controls",
            "_model_module_version": "1.5.0",
            "value": " 996k/996k [00:00&lt;00:00, 6.32MB/s]",
            "_view_count": null,
            "_view_module_version": "1.5.0",
            "description_tooltip": null,
            "_model_module": "@jupyter-widgets/controls",
            "layout": "IPY_MODEL_7c47260944dd4f39b112469792c46cef"
          }
        },
        "c03ebdf5a2aa4a9eb12c51f9d3bd4fa2": {
          "model_module": "@jupyter-widgets/controls",
          "model_name": "ProgressStyleModel",
          "state": {
            "_view_name": "StyleView",
            "_model_name": "ProgressStyleModel",
            "description_width": "initial",
            "_view_module": "@jupyter-widgets/base",
            "_model_module_version": "1.5.0",
            "_view_count": null,
            "_view_module_version": "1.2.0",
            "bar_color": null,
            "_model_module": "@jupyter-widgets/controls"
          }
        },
        "7ad70417e2c9479d9ff4a9355a0df0df": {
          "model_module": "@jupyter-widgets/base",
          "model_name": "LayoutModel",
          "state": {
            "_view_name": "LayoutView",
            "grid_template_rows": null,
            "right": null,
            "justify_content": null,
            "_view_module": "@jupyter-widgets/base",
            "overflow": null,
            "_model_module_version": "1.2.0",
            "_view_count": null,
            "flex_flow": null,
            "width": null,
            "min_width": null,
            "border": null,
            "align_items": null,
            "bottom": null,
            "_model_module": "@jupyter-widgets/base",
            "top": null,
            "grid_column": null,
            "overflow_y": null,
            "overflow_x": null,
            "grid_auto_flow": null,
            "grid_area": null,
            "grid_template_columns": null,
            "flex": null,
            "_model_name": "LayoutModel",
            "justify_items": null,
            "grid_row": null,
            "max_height": null,
            "align_content": null,
            "visibility": null,
            "align_self": null,
            "height": null,
            "min_height": null,
            "padding": null,
            "grid_auto_rows": null,
            "grid_gap": null,
            "max_width": null,
            "order": null,
            "_view_module_version": "1.2.0",
            "grid_template_areas": null,
            "object_position": null,
            "object_fit": null,
            "grid_auto_columns": null,
            "margin": null,
            "display": null,
            "left": null
          }
        },
        "ef1aa84dd8084bfd80454df00f1dbde2": {
          "model_module": "@jupyter-widgets/controls",
          "model_name": "DescriptionStyleModel",
          "state": {
            "_view_name": "StyleView",
            "_model_name": "DescriptionStyleModel",
            "description_width": "",
            "_view_module": "@jupyter-widgets/base",
            "_model_module_version": "1.5.0",
            "_view_count": null,
            "_view_module_version": "1.2.0",
            "_model_module": "@jupyter-widgets/controls"
          }
        },
        "7c47260944dd4f39b112469792c46cef": {
          "model_module": "@jupyter-widgets/base",
          "model_name": "LayoutModel",
          "state": {
            "_view_name": "LayoutView",
            "grid_template_rows": null,
            "right": null,
            "justify_content": null,
            "_view_module": "@jupyter-widgets/base",
            "overflow": null,
            "_model_module_version": "1.2.0",
            "_view_count": null,
            "flex_flow": null,
            "width": null,
            "min_width": null,
            "border": null,
            "align_items": null,
            "bottom": null,
            "_model_module": "@jupyter-widgets/base",
            "top": null,
            "grid_column": null,
            "overflow_y": null,
            "overflow_x": null,
            "grid_auto_flow": null,
            "grid_area": null,
            "grid_template_columns": null,
            "flex": null,
            "_model_name": "LayoutModel",
            "justify_items": null,
            "grid_row": null,
            "max_height": null,
            "align_content": null,
            "visibility": null,
            "align_self": null,
            "height": null,
            "min_height": null,
            "padding": null,
            "grid_auto_rows": null,
            "grid_gap": null,
            "max_width": null,
            "order": null,
            "_view_module_version": "1.2.0",
            "grid_template_areas": null,
            "object_position": null,
            "object_fit": null,
            "grid_auto_columns": null,
            "margin": null,
            "display": null,
            "left": null
          }
        },
        "54003042fb2c482b86717eea09e4d697": {
          "model_module": "@jupyter-widgets/controls",
          "model_name": "HBoxModel",
          "state": {
            "_view_name": "HBoxView",
            "_dom_classes": [],
            "_model_name": "HBoxModel",
            "_view_module": "@jupyter-widgets/controls",
            "_model_module_version": "1.5.0",
            "_view_count": null,
            "_view_module_version": "1.5.0",
            "box_style": "",
            "layout": "IPY_MODEL_baca665ca74e487fbe426f1f06a5e97a",
            "_model_module": "@jupyter-widgets/controls",
            "children": [
              "IPY_MODEL_ef9d0fa831ad43e79aa45f7e39701324",
              "IPY_MODEL_6fd66691137b4502802f224b6da490ae"
            ]
          }
        },
        "baca665ca74e487fbe426f1f06a5e97a": {
          "model_module": "@jupyter-widgets/base",
          "model_name": "LayoutModel",
          "state": {
            "_view_name": "LayoutView",
            "grid_template_rows": null,
            "right": null,
            "justify_content": null,
            "_view_module": "@jupyter-widgets/base",
            "overflow": null,
            "_model_module_version": "1.2.0",
            "_view_count": null,
            "flex_flow": null,
            "width": null,
            "min_width": null,
            "border": null,
            "align_items": null,
            "bottom": null,
            "_model_module": "@jupyter-widgets/base",
            "top": null,
            "grid_column": null,
            "overflow_y": null,
            "overflow_x": null,
            "grid_auto_flow": null,
            "grid_area": null,
            "grid_template_columns": null,
            "flex": null,
            "_model_name": "LayoutModel",
            "justify_items": null,
            "grid_row": null,
            "max_height": null,
            "align_content": null,
            "visibility": null,
            "align_self": null,
            "height": null,
            "min_height": null,
            "padding": null,
            "grid_auto_rows": null,
            "grid_gap": null,
            "max_width": null,
            "order": null,
            "_view_module_version": "1.2.0",
            "grid_template_areas": null,
            "object_position": null,
            "object_fit": null,
            "grid_auto_columns": null,
            "margin": null,
            "display": null,
            "left": null
          }
        },
        "ef9d0fa831ad43e79aa45f7e39701324": {
          "model_module": "@jupyter-widgets/controls",
          "model_name": "FloatProgressModel",
          "state": {
            "_view_name": "ProgressView",
            "style": "IPY_MODEL_8685112066f04737ad6bd6e98488c6f7",
            "_dom_classes": [],
            "description": "Downloading: 100%",
            "_model_name": "FloatProgressModel",
            "bar_style": "success",
            "max": 714314041,
            "_view_module": "@jupyter-widgets/controls",
            "_model_module_version": "1.5.0",
            "value": 714314041,
            "_view_count": null,
            "_view_module_version": "1.5.0",
            "orientation": "horizontal",
            "min": 0,
            "description_tooltip": null,
            "_model_module": "@jupyter-widgets/controls",
            "layout": "IPY_MODEL_b24e3addddd040729dedfcdde549515b"
          }
        },
        "6fd66691137b4502802f224b6da490ae": {
          "model_module": "@jupyter-widgets/controls",
          "model_name": "HTMLModel",
          "state": {
            "_view_name": "HTMLView",
            "style": "IPY_MODEL_7cd3fb8fc7474d548d700881a6cba290",
            "_dom_classes": [],
            "description": "",
            "_model_name": "HTMLModel",
            "placeholder": "​",
            "_view_module": "@jupyter-widgets/controls",
            "_model_module_version": "1.5.0",
            "value": " 714M/714M [00:15&lt;00:00, 45.6MB/s]",
            "_view_count": null,
            "_view_module_version": "1.5.0",
            "description_tooltip": null,
            "_model_module": "@jupyter-widgets/controls",
            "layout": "IPY_MODEL_0ee8f6dd2b7c446cbe62eb0318f4e34f"
          }
        },
        "8685112066f04737ad6bd6e98488c6f7": {
          "model_module": "@jupyter-widgets/controls",
          "model_name": "ProgressStyleModel",
          "state": {
            "_view_name": "StyleView",
            "_model_name": "ProgressStyleModel",
            "description_width": "initial",
            "_view_module": "@jupyter-widgets/base",
            "_model_module_version": "1.5.0",
            "_view_count": null,
            "_view_module_version": "1.2.0",
            "bar_color": null,
            "_model_module": "@jupyter-widgets/controls"
          }
        },
        "b24e3addddd040729dedfcdde549515b": {
          "model_module": "@jupyter-widgets/base",
          "model_name": "LayoutModel",
          "state": {
            "_view_name": "LayoutView",
            "grid_template_rows": null,
            "right": null,
            "justify_content": null,
            "_view_module": "@jupyter-widgets/base",
            "overflow": null,
            "_model_module_version": "1.2.0",
            "_view_count": null,
            "flex_flow": null,
            "width": null,
            "min_width": null,
            "border": null,
            "align_items": null,
            "bottom": null,
            "_model_module": "@jupyter-widgets/base",
            "top": null,
            "grid_column": null,
            "overflow_y": null,
            "overflow_x": null,
            "grid_auto_flow": null,
            "grid_area": null,
            "grid_template_columns": null,
            "flex": null,
            "_model_name": "LayoutModel",
            "justify_items": null,
            "grid_row": null,
            "max_height": null,
            "align_content": null,
            "visibility": null,
            "align_self": null,
            "height": null,
            "min_height": null,
            "padding": null,
            "grid_auto_rows": null,
            "grid_gap": null,
            "max_width": null,
            "order": null,
            "_view_module_version": "1.2.0",
            "grid_template_areas": null,
            "object_position": null,
            "object_fit": null,
            "grid_auto_columns": null,
            "margin": null,
            "display": null,
            "left": null
          }
        },
        "7cd3fb8fc7474d548d700881a6cba290": {
          "model_module": "@jupyter-widgets/controls",
          "model_name": "DescriptionStyleModel",
          "state": {
            "_view_name": "StyleView",
            "_model_name": "DescriptionStyleModel",
            "description_width": "",
            "_view_module": "@jupyter-widgets/base",
            "_model_module_version": "1.5.0",
            "_view_count": null,
            "_view_module_version": "1.2.0",
            "_model_module": "@jupyter-widgets/controls"
          }
        },
        "0ee8f6dd2b7c446cbe62eb0318f4e34f": {
          "model_module": "@jupyter-widgets/base",
          "model_name": "LayoutModel",
          "state": {
            "_view_name": "LayoutView",
            "grid_template_rows": null,
            "right": null,
            "justify_content": null,
            "_view_module": "@jupyter-widgets/base",
            "overflow": null,
            "_model_module_version": "1.2.0",
            "_view_count": null,
            "flex_flow": null,
            "width": null,
            "min_width": null,
            "border": null,
            "align_items": null,
            "bottom": null,
            "_model_module": "@jupyter-widgets/base",
            "top": null,
            "grid_column": null,
            "overflow_y": null,
            "overflow_x": null,
            "grid_auto_flow": null,
            "grid_area": null,
            "grid_template_columns": null,
            "flex": null,
            "_model_name": "LayoutModel",
            "justify_items": null,
            "grid_row": null,
            "max_height": null,
            "align_content": null,
            "visibility": null,
            "align_self": null,
            "height": null,
            "min_height": null,
            "padding": null,
            "grid_auto_rows": null,
            "grid_gap": null,
            "max_width": null,
            "order": null,
            "_view_module_version": "1.2.0",
            "grid_template_areas": null,
            "object_position": null,
            "object_fit": null,
            "grid_auto_columns": null,
            "margin": null,
            "display": null,
            "left": null
          }
        }
      }
    }
  },
  "cells": [
    {
      "cell_type": "code",
      "metadata": {
        "colab": {
          "base_uri": "https://localhost:8080/"
        },
        "id": "lYfjyUnAj1Uw",
        "outputId": "f9e08d6d-825a-404e-c3c0-072dfef43cbb"
      },
      "source": [
        "!pip install transformers==3.3.1\n",
        "!pip install timm"
      ],
      "execution_count": null,
      "outputs": [
        {
          "output_type": "stream",
          "text": [
            "Collecting transformers==3.3.1\n",
            "\u001b[?25l  Downloading https://files.pythonhosted.org/packages/19/22/aff234f4a841f8999e68a7a94bdd4b60b4cebcfeca5d67d61cd08c9179de/transformers-3.3.1-py3-none-any.whl (1.1MB)\n",
            "\u001b[K     |████████████████████████████████| 1.1MB 23.3MB/s \n",
            "\u001b[?25hRequirement already satisfied: filelock in /usr/local/lib/python3.7/dist-packages (from transformers==3.3.1) (3.0.12)\n",
            "Requirement already satisfied: regex!=2019.12.17 in /usr/local/lib/python3.7/dist-packages (from transformers==3.3.1) (2019.12.20)\n",
            "Requirement already satisfied: requests in /usr/local/lib/python3.7/dist-packages (from transformers==3.3.1) (2.23.0)\n",
            "Collecting sentencepiece!=0.1.92\n",
            "\u001b[?25l  Downloading https://files.pythonhosted.org/packages/f5/99/e0808cb947ba10f575839c43e8fafc9cc44e4a7a2c8f79c60db48220a577/sentencepiece-0.1.95-cp37-cp37m-manylinux2014_x86_64.whl (1.2MB)\n",
            "\u001b[K     |████████████████████████████████| 1.2MB 53.0MB/s \n",
            "\u001b[?25hRequirement already satisfied: packaging in /usr/local/lib/python3.7/dist-packages (from transformers==3.3.1) (20.9)\n",
            "Requirement already satisfied: tqdm>=4.27 in /usr/local/lib/python3.7/dist-packages (from transformers==3.3.1) (4.41.1)\n",
            "Collecting sacremoses\n",
            "\u001b[?25l  Downloading https://files.pythonhosted.org/packages/75/ee/67241dc87f266093c533a2d4d3d69438e57d7a90abb216fa076e7d475d4a/sacremoses-0.0.45-py3-none-any.whl (895kB)\n",
            "\u001b[K     |████████████████████████████████| 901kB 51.1MB/s \n",
            "\u001b[?25hCollecting tokenizers==0.8.1.rc2\n",
            "\u001b[?25l  Downloading https://files.pythonhosted.org/packages/75/26/c02ba92ecb8b780bdae4a862d351433c2912fe49469dac7f87a5c85ccca6/tokenizers-0.8.1rc2-cp37-cp37m-manylinux1_x86_64.whl (3.0MB)\n",
            "\u001b[K     |████████████████████████████████| 3.0MB 58.2MB/s \n",
            "\u001b[?25hRequirement already satisfied: numpy in /usr/local/lib/python3.7/dist-packages (from transformers==3.3.1) (1.19.5)\n",
            "Requirement already satisfied: idna<3,>=2.5 in /usr/local/lib/python3.7/dist-packages (from requests->transformers==3.3.1) (2.10)\n",
            "Requirement already satisfied: certifi>=2017.4.17 in /usr/local/lib/python3.7/dist-packages (from requests->transformers==3.3.1) (2020.12.5)\n",
            "Requirement already satisfied: urllib3!=1.25.0,!=1.25.1,<1.26,>=1.21.1 in /usr/local/lib/python3.7/dist-packages (from requests->transformers==3.3.1) (1.24.3)\n",
            "Requirement already satisfied: chardet<4,>=3.0.2 in /usr/local/lib/python3.7/dist-packages (from requests->transformers==3.3.1) (3.0.4)\n",
            "Requirement already satisfied: pyparsing>=2.0.2 in /usr/local/lib/python3.7/dist-packages (from packaging->transformers==3.3.1) (2.4.7)\n",
            "Requirement already satisfied: click in /usr/local/lib/python3.7/dist-packages (from sacremoses->transformers==3.3.1) (8.0.0)\n",
            "Requirement already satisfied: six in /usr/local/lib/python3.7/dist-packages (from sacremoses->transformers==3.3.1) (1.15.0)\n",
            "Requirement already satisfied: joblib in /usr/local/lib/python3.7/dist-packages (from sacremoses->transformers==3.3.1) (1.0.1)\n",
            "Installing collected packages: sentencepiece, sacremoses, tokenizers, transformers\n",
            "Successfully installed sacremoses-0.0.45 sentencepiece-0.1.95 tokenizers-0.8.1rc2 transformers-3.3.1\n",
            "Collecting timm\n",
            "\u001b[?25l  Downloading https://files.pythonhosted.org/packages/ee/08/1ccaf8d516935666b7fa5f6aaddf157c66208ea0c93bb847ae09f166354f/timm-0.4.9-py3-none-any.whl (346kB)\n",
            "\u001b[K     |████████████████████████████████| 348kB 25.0MB/s \n",
            "\u001b[?25hRequirement already satisfied: torchvision in /usr/local/lib/python3.7/dist-packages (from timm) (0.9.1+cu101)\n",
            "Requirement already satisfied: torch>=1.4 in /usr/local/lib/python3.7/dist-packages (from timm) (1.8.1+cu101)\n",
            "Requirement already satisfied: numpy in /usr/local/lib/python3.7/dist-packages (from torchvision->timm) (1.19.5)\n",
            "Requirement already satisfied: pillow>=4.1.1 in /usr/local/lib/python3.7/dist-packages (from torchvision->timm) (7.1.2)\n",
            "Requirement already satisfied: typing-extensions in /usr/local/lib/python3.7/dist-packages (from torch>=1.4->timm) (3.7.4.3)\n",
            "Installing collected packages: timm\n",
            "Successfully installed timm-0.4.9\n"
          ],
          "name": "stdout"
        }
      ]
    },
    {
      "cell_type": "code",
      "metadata": {
        "id": "QFxTNGTtkOsZ"
      },
      "source": [
        "import numpy as np\n",
        "import pandas as pd\n",
        "import matplotlib.pyplot as plt\n",
        "import seaborn as sns\n",
        "\n",
        "plt.style.use(\"ggplot\")\n",
        "\n",
        "import timm\n",
        "import torch\n",
        "import torch.nn as nn\n",
        "import torch.optim as optim\n",
        "import torchvision.transforms as transforms\n",
        "import torchvision.models as models\n",
        "\n",
        "from zipfile import ZipFile\n",
        "import os\n",
        "import time\n",
        "from shutil import copy2\n",
        "from torch.utils.data import DataLoader\n",
        "from transformers import AdamW,get_linear_schedule_with_warmup,AutoModel,AutoTokenizer\n",
        "from PIL import Image\n",
        "from sklearn.metrics import confusion_matrix, plot_confusion_matrix, classification_report"
      ],
      "execution_count": null,
      "outputs": []
    },
    {
      "cell_type": "code",
      "metadata": {
        "id": "pNPdJP6okbo6"
      },
      "source": [
        "extract_path = '/content/drive/MyDrive/Colab Notebooks/Datasets and weights/Tamil_troll_memes/training_img.zip'\n",
        "with ZipFile(extract_path, 'r') as zipObj:\n",
        "   zipObj.extractall()"
      ],
      "execution_count": null,
      "outputs": []
    },
    {
      "cell_type": "code",
      "metadata": {
        "id": "LfoL4aVbk0l7"
      },
      "source": [
        "def move_data(start,troll,not_troll):\n",
        "  for img_name in os.listdir(start):\n",
        "    src = os.path.join(start,img_name)\n",
        "    if img_name.startswith('N'):\n",
        "      copy2(src,not_troll)\n",
        "    else:\n",
        "      copy2(src,troll)\n",
        "\n",
        "os.mkdir('Troll')\n",
        "os.mkdir('Non_troll')\n",
        "src = '/content/uploaded_tamil_memes'\n",
        "move_data(src,'/content/Troll','/content/Non_troll')\n",
        "\n",
        "def split_data(start,train,val,split):\n",
        "  for i, img_name in enumerate(os.listdir(start)):\n",
        "    src = os.path.join(start,img_name)\n",
        "    if i < split:\n",
        "      copy2(src,val)\n",
        "    else:\n",
        "      copy2(src,train)\n",
        "\n",
        "os.mkdir('Train')\n",
        "os.mkdir('Val')\n",
        "split_data('/content/Troll','/content/Train','/content/Val',128)\n",
        "split_data('/content/Non_troll','/content/Train','/content/Val',101)"
      ],
      "execution_count": null,
      "outputs": []
    },
    {
      "cell_type": "code",
      "metadata": {
        "id": "xARdDCgFkfOO"
      },
      "source": [
        "class TamilDataset(torch.utils.data.Dataset):\n",
        "  def __init__(self,df,tokenizer,max_len,path,transforms=None):\n",
        "    self.data_dir = path\n",
        "    self.df = df\n",
        "    self.tokenizer = tokenizer\n",
        "    self.transforms = transforms\n",
        "    self.max_len = max_len\n",
        "\n",
        "  def __len__(self):\n",
        "    return self.df.shape[0]\n",
        "\n",
        "  def __getitem__(self,index):\n",
        "    img_name, captions = self.df.iloc[index]\n",
        "    img_path = os.path.join(self.data_dir,img_name)\n",
        "    labels = 0 if img_name.startswith('N') else 1\n",
        "    img = Image.open(img_path).convert('RGB')\n",
        "\n",
        "    if self.transforms is not None:\n",
        "      img = self.transforms(img)\n",
        "\n",
        "    encoding = self.tokenizer.encode_plus(\n",
        "        captions,\n",
        "        add_special_tokens=True,\n",
        "        max_length = self.max_len,\n",
        "        return_token_type_ids = False,\n",
        "        padding = 'max_length',\n",
        "        return_attention_mask= True,\n",
        "        return_tensors='pt',\n",
        "        truncation=True\n",
        "    )\n",
        "\n",
        "    return {\n",
        "        'image' : img,\n",
        "        'text' : captions,\n",
        "        'input_ids' : encoding['input_ids'].flatten(),\n",
        "        'attention_mask' : encoding['attention_mask'].flatten(),\n",
        "        'label' : torch.tensor(labels,dtype=torch.float)\n",
        "    } "
      ],
      "execution_count": null,
      "outputs": []
    },
    {
      "cell_type": "code",
      "metadata": {
        "id": "BATqobfokp39"
      },
      "source": [
        "df = pd.read_csv('/content/drive/MyDrive/Colab Notebooks/Datasets and weights/Tamil_troll_memes/train_captions.csv')\n",
        "df.drop('Unnamed: 0',axis=1,inplace=True)\n",
        "\n",
        "train_df_data = []\n",
        "val_df_data = []\n",
        "for img_name in os.listdir('/content/Train'):\n",
        "  ind = list(df[df['imagename'] == img_name].index)[0]\n",
        "  train_df_data.append([img_name,df['captions'].iloc[ind]])\n",
        "\n",
        "for img_name in os.listdir('/content/Val'):\n",
        "  ind = list(df[df['imagename'] == img_name].index)[0]\n",
        "  val_df_data.append([img_name,df['captions'].iloc[ind]])\n",
        "\n",
        "train_df = pd.DataFrame(train_df_data,columns=['img_name','captions'])\n",
        "val_df = pd.DataFrame(val_df_data,columns=['img_name','captions'])"
      ],
      "execution_count": null,
      "outputs": []
    },
    {
      "cell_type": "code",
      "metadata": {
        "id": "fYJiycUyoF4b"
      },
      "source": [
        "def create_data_loader(df,tokenizer,max_len,batch_size,mytransforms,path,shuffle):\n",
        "  ds = TamilDataset(\n",
        "      df,\n",
        "      tokenizer,\n",
        "      max_len,\n",
        "      path,\n",
        "      mytransforms\n",
        "  )\n",
        "\n",
        "  return DataLoader(ds,\n",
        "                    batch_size = batch_size,\n",
        "                    shuffle=False,\n",
        "                    num_workers=2)"
      ],
      "execution_count": null,
      "outputs": []
    },
    {
      "cell_type": "code",
      "metadata": {
        "id": "CK0ugJsMLYvl",
        "colab": {
          "base_uri": "https://localhost:8080/",
          "height": 114,
          "referenced_widgets": [
            "d5d5d1ad5a08403c80c20f467ba6778a",
            "6ea78ee325b64af6bc7003507e0dd50d",
            "be7bf62ab770411b9ce4848afd8ad0bf",
            "b11eb97574a64382b38204d63e98e525",
            "47d3f8ba3cbe44308c1d9575202998d4",
            "a557c1bd9ffd4f0eba8caba9f43d5074",
            "5dbbba3cbfa447b5b37d9219051034fc",
            "d731db7b79f24343bc8dec025f01da03",
            "7cca502d9c124e6f9b03b7422b94b76b",
            "b77063c57ae845dbbda41edf292f91df",
            "1f6639cdb4c64c09a13b860dfc68cede",
            "31be752e0e7b457d821d0e9a5e3f77ef",
            "c03ebdf5a2aa4a9eb12c51f9d3bd4fa2",
            "7ad70417e2c9479d9ff4a9355a0df0df",
            "ef1aa84dd8084bfd80454df00f1dbde2",
            "7c47260944dd4f39b112469792c46cef"
          ]
        },
        "outputId": "9da9ffa8-eafb-4168-9bb9-1d9d28a0ed48"
      },
      "source": [
        "device = 'cuda' if torch.cuda.is_available() else 'cpu'\n",
        "PRE_TRAINED_MODEL_NAME = 'bert-base-multilingual-cased'\n",
        "tokenizer = AutoTokenizer.from_pretrained(PRE_TRAINED_MODEL_NAME)"
      ],
      "execution_count": null,
      "outputs": [
        {
          "output_type": "display_data",
          "data": {
            "application/vnd.jupyter.widget-view+json": {
              "model_id": "d5d5d1ad5a08403c80c20f467ba6778a",
              "version_minor": 0,
              "version_major": 2
            },
            "text/plain": [
              "HBox(children=(FloatProgress(value=0.0, description='Downloading', max=625.0, style=ProgressStyle(description_…"
            ]
          },
          "metadata": {
            "tags": []
          }
        },
        {
          "output_type": "stream",
          "text": [
            "\n"
          ],
          "name": "stdout"
        },
        {
          "output_type": "display_data",
          "data": {
            "application/vnd.jupyter.widget-view+json": {
              "model_id": "7cca502d9c124e6f9b03b7422b94b76b",
              "version_minor": 0,
              "version_major": 2
            },
            "text/plain": [
              "HBox(children=(FloatProgress(value=0.0, description='Downloading', max=995526.0, style=ProgressStyle(descripti…"
            ]
          },
          "metadata": {
            "tags": []
          }
        },
        {
          "output_type": "stream",
          "text": [
            "\n"
          ],
          "name": "stdout"
        }
      ]
    },
    {
      "cell_type": "code",
      "metadata": {
        "id": "VzGp4t4kLbfL"
      },
      "source": [
        "my_trans = transforms.Compose([\n",
        "        transforms.Resize((224,224)),\n",
        "        transforms.ToTensor(),     \n",
        "])\n",
        "\n",
        "BATCH_SIZE = 16\n",
        "MAX_LEN = 128\n",
        "train_data_loader = create_data_loader(train_df,tokenizer,MAX_LEN,BATCH_SIZE,my_trans,'/content/Train',True)\n",
        "val_data_loader = create_data_loader(val_df,tokenizer,MAX_LEN,BATCH_SIZE,my_trans,'/content/Val',False)"
      ],
      "execution_count": null,
      "outputs": []
    },
    {
      "cell_type": "code",
      "metadata": {
        "id": "MUHwpTJ7LdlY"
      },
      "source": [
        "class Generator(nn.Module):\n",
        "    def __init__(self):\n",
        "        super(Generator,self).__init__()\n",
        "        self.bert = AutoModel.from_pretrained('bert-base-multilingual-cased')\n",
        "        self.fc1 = nn.Linear(768,128)\n",
        "        self.fc2 = nn.Linear(128,1)\n",
        "        self.gelu = nn.ReLU()\n",
        "        self.drop = nn.Dropout(0.2)\n",
        "    \n",
        "    def forward(self,inp,atten):\n",
        "        _, x = self.bert(inp,atten)\n",
        "        x = self.fc1(x)\n",
        "        x = self.gelu(x)\n",
        "        x = self.drop(x)\n",
        "        x = self.fc2(x)\n",
        "        x = self.gelu(x)\n",
        "        \n",
        "        return x"
      ],
      "execution_count": null,
      "outputs": []
    },
    {
      "cell_type": "code",
      "metadata": {
        "id": "hvRt7kRrSDKe"
      },
      "source": [
        "class Discriminator(nn.Module):\n",
        "    def __init__(self):\n",
        "        super(Discriminator,self).__init__()\n",
        "        self.incep4 = timm.create_model('inception_v4',pretrained=True)\n",
        "        self.incep4.last_linear = nn.Linear(1536,768)\n",
        "        self.fc1 = nn.Linear(768,127)\n",
        "        self.leak = nn.LeakyReLU()\n",
        "        self.fc2 = nn.Linear(128,1)\n",
        "        self.drop = nn.Dropout(0.2)\n",
        "\n",
        "    def forward(self,img,t_out):\n",
        "        img = self.incep4(img)\n",
        "        img = self.fc1(img)\n",
        "        img = self.leak(img)\n",
        "        img = self.drop(img)\n",
        "        out = torch.cat((img,t_out),dim=1)\n",
        "        out = self.fc2(out)\n",
        "\n",
        "        return out"
      ],
      "execution_count": null,
      "outputs": []
    },
    {
      "cell_type": "code",
      "metadata": {
        "id": "rzSAxJTwx8eC"
      },
      "source": [
        "def epoch_time(start_time,end_time):\n",
        "\telapsed_time = end_time - start_time\n",
        "\telapsed_mins = int(elapsed_time/60)\n",
        "\telapsed_secs = int(elapsed_time - (elapsed_mins * 60))\n",
        "\treturn elapsed_mins,elapsed_secs"
      ],
      "execution_count": null,
      "outputs": []
    },
    {
      "cell_type": "code",
      "metadata": {
        "id": "-RPeF-h2YiTe"
      },
      "source": [
        "def train_epoch(gen,disc,data_loader,gen_loss,disc_loss,gen_opt,disc_opt,device,n_examples):\n",
        "    gen_losses = []\n",
        "    disc_losses = []\n",
        "    correct_preds = 0\n",
        "\n",
        "    for data in data_loader:\n",
        "        input_ids = data['input_ids'].to(device)\n",
        "        attention_mask = data['attention_mask'].to(device)\n",
        "        img = data['image'].to(device)\n",
        "        label = data['label'].to(device)\n",
        "\n",
        "        #train disc\n",
        "        disc_opt.zero_grad()\n",
        "        with torch.no_grad():\n",
        "            fake = gen(input_ids,attention_mask)\n",
        "        disc_fake_labels = disc(img,fake.detach())\n",
        "        disc_fake_loss = disc_loss(disc_fake_labels, torch.zeros_like(disc_fake_labels))\n",
        "        \n",
        "        real_labels = torch.unsqueeze(label,dim=1)\n",
        "        disc_real_labels = disc(img,real_labels)\n",
        "        disc_real_loss = disc_loss(disc_real_labels, torch.ones_like(disc_real_labels))\n",
        "        total_disc_loss = (disc_fake_loss + disc_real_loss) / 2\n",
        "        total_disc_loss.backward(retain_graph=True)\n",
        "        disc_opt.step()\n",
        "        disc_losses.append(total_disc_loss.item())\n",
        "\n",
        "        #train gen\n",
        "        gen_opt.zero_grad()\n",
        "        gen_pred = gen(input_ids,attention_mask)\n",
        "        disc_pred = disc(img,gen_pred)\n",
        "        total_gen_loss = gen_loss(disc_pred,torch.ones_like(disc_pred))\n",
        "        total_gen_loss.backward()\n",
        "        gen_opt.step()\n",
        "        gen_losses.append(total_gen_loss.item())\n",
        "\n",
        "        sig_outs = torch.sigmoid(torch.squeeze(gen_pred,dim=1))\n",
        "        preds = [0 if x < 0.5 else 1 for x in sig_outs]\n",
        "        preds = torch.tensor(preds).to(device)\n",
        "        correct_preds += torch.sum(preds == label)\n",
        "\n",
        "    return correct_preds / n_examples, np.mean(gen_losses), np.mean(disc_losses)"
      ],
      "execution_count": null,
      "outputs": []
    },
    {
      "cell_type": "code",
      "metadata": {
        "id": "DLgCLpI0bQbj"
      },
      "source": [
        "def val_epoch(gen,data_loader,device,n_examples):\n",
        "    correct_preds = 0\n",
        "\n",
        "    for data in data_loader:\n",
        "        input_ids = data['input_ids'].to(device)\n",
        "        attention_mask = data['attention_mask'].to(device)\n",
        "        img = data['image'].to(device)\n",
        "        label = data['label'].to(device)\n",
        "\n",
        "        with torch.no_grad():\n",
        "            gen_preds = gen(input_ids,attention_mask)\n",
        "        \n",
        "        preds = [0 if x < 0.5 else 1 for x in torch.sigmoid(gen_preds)]\n",
        "        preds = torch.tensor(preds).to(device)\n",
        "        correct_preds += torch.sum(preds == label)\n",
        "\n",
        "    return correct_preds / n_examples"
      ],
      "execution_count": null,
      "outputs": []
    },
    {
      "cell_type": "code",
      "metadata": {
        "colab": {
          "base_uri": "https://localhost:8080/",
          "height": 82,
          "referenced_widgets": [
            "54003042fb2c482b86717eea09e4d697",
            "baca665ca74e487fbe426f1f06a5e97a",
            "ef9d0fa831ad43e79aa45f7e39701324",
            "6fd66691137b4502802f224b6da490ae",
            "8685112066f04737ad6bd6e98488c6f7",
            "b24e3addddd040729dedfcdde549515b",
            "7cd3fb8fc7474d548d700881a6cba290",
            "0ee8f6dd2b7c446cbe62eb0318f4e34f"
          ]
        },
        "id": "WbHB85lwxdYG",
        "outputId": "dd453529-7196-4a6d-fd55-95193c4ce76b"
      },
      "source": [
        "EPOCHS = 5\n",
        "\n",
        "gen = Generator().to(device)\n",
        "disc = Discriminator().to(device)\n",
        "\n",
        "gen_opt = AdamW(gen.parameters(), lr=2e-5, correct_bias=False)\n",
        "disc_opt = optim.Adam(disc.parameters(), lr = 0.0002)"
      ],
      "execution_count": null,
      "outputs": [
        {
          "output_type": "display_data",
          "data": {
            "application/vnd.jupyter.widget-view+json": {
              "model_id": "54003042fb2c482b86717eea09e4d697",
              "version_minor": 0,
              "version_major": 2
            },
            "text/plain": [
              "HBox(children=(FloatProgress(value=0.0, description='Downloading', max=714314041.0, style=ProgressStyle(descri…"
            ]
          },
          "metadata": {
            "tags": []
          }
        },
        {
          "output_type": "stream",
          "text": [
            "\n"
          ],
          "name": "stdout"
        },
        {
          "output_type": "stream",
          "text": [
            "Downloading: \"https://github.com/rwightman/pytorch-image-models/releases/download/v0.1-cadene/inceptionv4-8e4777a0.pth\" to /root/.cache/torch/hub/checkpoints/inceptionv4-8e4777a0.pth\n"
          ],
          "name": "stderr"
        }
      ]
    },
    {
      "cell_type": "code",
      "metadata": {
        "id": "dFEovzYs-qIU"
      },
      "source": [
        "gen_loss = nn.BCEWithLogitsLoss().to(device)\n",
        "disc_loss = nn.BCEWithLogitsLoss().to(device)"
      ],
      "execution_count": null,
      "outputs": []
    },
    {
      "cell_type": "code",
      "metadata": {
        "colab": {
          "base_uri": "https://localhost:8080/"
        },
        "id": "4HA6MMMmx04o",
        "outputId": "c1eb1a5c-b9c2-4380-bd0b-6ae9596e6992"
      },
      "source": [
        "from collections import defaultdict\n",
        "\n",
        "history = defaultdict(list)\n",
        "best_accuracy = 0\n",
        "for epoch in range(EPOCHS):\n",
        " \n",
        " \n",
        "  start_time = time.time()\n",
        "  train_acc,gen_losse,disc_losse = train_epoch(\n",
        "      gen,\n",
        "      disc,\n",
        "      train_data_loader,\n",
        "      gen_loss,\n",
        "      disc_loss,\n",
        "      gen_opt,\n",
        "      disc_opt,\n",
        "      device,\n",
        "      2071\n",
        "  )\n",
        "   \n",
        "  \n",
        "  val_acc = val_epoch(\n",
        "      gen,\n",
        "      val_data_loader,\n",
        "      device,\n",
        "      229\n",
        "  )\n",
        "  \n",
        "  end_time = time.time()\n",
        "  epoch_mins, epoch_secs = epoch_time(start_time, end_time)\n",
        "  print(f'Epoch: {epoch+1:02} | Epoch Time: {epoch_mins}m {epoch_secs}s')\n",
        "  print(f'Gen Loss {gen_losse} Disc Loss {disc_losse}')\n",
        "  print(f'Train accuracy {train_acc}')\n",
        "  print(f'Val accuracy {val_acc}')\n",
        "  print()\n",
        "\n",
        "  history['train_acc'].append(train_acc)\n",
        "  history['gen_loss'].append(gen_losse)\n",
        "  history['disc_loss'].append(disc_losse)\n",
        "  history['val_acc'].append(val_acc)"
      ],
      "execution_count": null,
      "outputs": [
        {
          "output_type": "stream",
          "text": [
            "Epoch: 01 | Epoch Time: 3m 40s\n",
            "Gen Loss 0.6930558814452245 Disc Loss 0.6958770504364601\n",
            "Train accuracy 0.5572187304496765\n",
            "Val accuracy 0.5589519739151001\n",
            "\n",
            "Epoch: 02 | Epoch Time: 3m 40s\n",
            "Gen Loss 0.6949315291184646 Disc Loss 0.691616611297314\n",
            "Train accuracy 0.5572187304496765\n",
            "Val accuracy 0.5589519739151001\n",
            "\n",
            "Epoch: 03 | Epoch Time: 3m 41s\n",
            "Gen Loss 0.6971177188249734 Disc Loss 0.6879663091439467\n",
            "Train accuracy 0.5572187304496765\n",
            "Val accuracy 0.5589519739151001\n",
            "\n",
            "Epoch: 04 | Epoch Time: 3m 40s\n",
            "Gen Loss 0.7004121060554798 Disc Loss 0.6843227771612314\n",
            "Train accuracy 0.5572187304496765\n",
            "Val accuracy 0.5589519739151001\n",
            "\n",
            "Epoch: 05 | Epoch Time: 3m 40s\n",
            "Gen Loss 0.7054866460653452 Disc Loss 0.6808523654937744\n",
            "Train accuracy 0.5572187304496765\n",
            "Val accuracy 0.5589519739151001\n",
            "\n"
          ],
          "name": "stdout"
        }
      ]
    },
    {
      "cell_type": "code",
      "metadata": {
        "id": "q4fSMFU6EiDA"
      },
      "source": [
        "df_test = pd.read_csv('/content/drive/MyDrive/Colab Notebooks/Datasets and weights/Tamil_troll_memes/test_captions.csv')\n",
        "df_test.drop('Unnamed: 0',axis=1,inplace=True)\n",
        "extract_path = '/content/drive/MyDrive/Colab Notebooks/Datasets and weights/Tamil_troll_memes/test_img.zip'\n",
        "with ZipFile(extract_path, 'r') as zipObj:\n",
        "   zipObj.extractall()"
      ],
      "execution_count": null,
      "outputs": []
    },
    {
      "cell_type": "code",
      "metadata": {
        "id": "3BvsV84bEi8G"
      },
      "source": [
        "test_data_loader = create_data_loader(df_test,tokenizer,MAX_LEN,BATCH_SIZE,my_trans,'/content/test_img',False)"
      ],
      "execution_count": null,
      "outputs": []
    },
    {
      "cell_type": "code",
      "metadata": {
        "id": "05O5ayrxEkV0"
      },
      "source": [
        "def get_predictions(model,data_loader, device):\n",
        "    model = model.eval()\n",
        "    f_preds = []\n",
        "    with torch.no_grad():\n",
        "        for d in data_loader:\n",
        "            input_ids = d[\"input_ids\"].to(device)\n",
        "            attention_mask = d[\"attention_mask\"].to(device)\n",
        "            image = d['image'].to(device)\n",
        "            outputs = model(\n",
        "                input_ids,\n",
        "                attention_mask,\n",
        "            )\n",
        "            sig_outs = torch.sigmoid(outputs)\n",
        "            preds = [0 if x < 0.5 else 1 for x in sig_outs]\n",
        "            for j in preds:\n",
        "                f_preds.append(j)\n",
        "    \n",
        "    return f_preds"
      ],
      "execution_count": null,
      "outputs": []
    },
    {
      "cell_type": "code",
      "metadata": {
        "id": "SQY5ERE7EtRB"
      },
      "source": [
        "submission_preds = get_predictions(gen,test_data_loader,device)"
      ],
      "execution_count": null,
      "outputs": []
    },
    {
      "cell_type": "code",
      "metadata": {
        "id": "Lu6Be2tcExgJ"
      },
      "source": [
        "df_org = pd.read_csv('/content/drive/MyDrive/Colab Notebooks/Datasets and weights/Tamil_troll_memes/gold_labels_for_test.csv')\n",
        "def f(x):\n",
        "    if x == 'troll':\n",
        "        return 1\n",
        "    return 0\n",
        "\n",
        "df_org['label'] = df_org['label'].apply(lambda x : f(x))"
      ],
      "execution_count": null,
      "outputs": []
    },
    {
      "cell_type": "code",
      "metadata": {
        "id": "WKF0O7AhE8ui"
      },
      "source": [
        "print(classification_report(df_org['label'],submission_preds,target_names=['Non-Troll','Troll']))"
      ],
      "execution_count": null,
      "outputs": []
    },
    {
      "cell_type": "code",
      "metadata": {
        "id": "BUGXVDwkFCgJ"
      },
      "source": [
        ""
      ],
      "execution_count": null,
      "outputs": []
    }
  ]
}